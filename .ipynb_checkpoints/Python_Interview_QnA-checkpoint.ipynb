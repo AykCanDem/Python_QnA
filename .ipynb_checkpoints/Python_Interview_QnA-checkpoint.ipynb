{
 "cells": [
  {
   "cell_type": "markdown",
   "metadata": {},
   "source": [
    "#### **Q1.** What is the difference between list and tuples in Python?\n",
    "\n",
    "**Lists**\n",
    "- Mutable\n",
    "- has a large memory.\n",
    "- stored in two blocks of memory (one is fixed sized, other one is variable sized for storing data)\n",
    "- Creating list is slower than creating tuples.\n",
    "- Elements caan be removed or replaced.\n",
    "- List objects can not be used as Keys for **dictionaries** because Keys should be hashable and immutable.\n",
    "\n",
    "**Tuples**\n",
    "- Immutable\n",
    "- has a small memory.\n",
    "- stored in a single block of memory\n",
    "- Creating tuples faster than creating lists\n",
    "- Elements cannot be removed or replaced\n",
    "- Tuple objects can be used as Keys for **dictionaries** because Keys should be hashable and immutable."
   ]
  },
  {
   "cell_type": "markdown",
   "metadata": {},
   "source": [
    "Show mutable/immutable characteristic"
   ]
  },
  {
   "cell_type": "code",
   "execution_count": 1,
   "metadata": {},
   "outputs": [
    {
     "name": "stdout",
     "output_type": "stream",
     "text": [
      "List1 id: 3073780555464\n",
      "Tuple1 id: 3073780663944\n"
     ]
    }
   ],
   "source": [
    "list1 = [1,2,3,4]\n",
    "tuple1 = (1,2,3,4)\n",
    "\n",
    "# id is the object's memory address\n",
    "print('List1 id:', id(list1))\n",
    "print('Tuple1 id:', id(tuple1))"
   ]
  },
  {
   "cell_type": "markdown",
   "metadata": {},
   "source": [
    "Show memory usage, even if tuple stores more characters, the list uses larger memory."
   ]
  },
  {
   "cell_type": "code",
   "execution_count": 2,
   "metadata": {},
   "outputs": [
    {
     "name": "stdout",
     "output_type": "stream",
     "text": [
      "Size of list: 72\n",
      "Size of tuple: 64\n"
     ]
    }
   ],
   "source": [
    "list1 = ['This','is','a','sentence']\n",
    "tuple1 = ('This','is','a','longer','sentence')\n",
    "\n",
    "print('Size of list:', list1.__sizeof__())\n",
    "print('Size of tuple:', tuple1.__sizeof__())"
   ]
  },
  {
   "cell_type": "code",
   "execution_count": 3,
   "metadata": {},
   "outputs": [
    {
     "name": "stdout",
     "output_type": "stream",
     "text": [
      "List1 id: 3073780364616\n"
     ]
    }
   ],
   "source": [
    "# Lists are mutable. After change, memory address (id) remains same.\n",
    "list1[0] = 100\n",
    "print('List1 id:', id(list1))"
   ]
  },
  {
   "cell_type": "raw",
   "metadata": {},
   "source": [
    "# TypeError: tuples are immutable. \n",
    "tuple1[0] = 10"
   ]
  },
  {
   "cell_type": "markdown",
   "metadata": {},
   "source": [
    "Using tuples as dictionary keys"
   ]
  },
  {
   "cell_type": "code",
   "execution_count": 4,
   "metadata": {},
   "outputs": [
    {
     "data": {
      "text/plain": [
       "{(1, 2, 3): 'A', (4, 5, 6): 'B'}"
      ]
     },
     "execution_count": 4,
     "metadata": {},
     "output_type": "execute_result"
    }
   ],
   "source": [
    "dict1 = {(1,2,3):'A', (4,5,6):'B'}\n",
    "dict1"
   ]
  },
  {
   "cell_type": "raw",
   "metadata": {},
   "source": [
    "# TypeError: unhashable type (list)\n",
    "dict1 = {[(1,2,3)]:'A', [(4,5,6)]:'B'}\n",
    "dict1"
   ]
  },
  {
   "cell_type": "markdown",
   "metadata": {},
   "source": [
    "-------\n",
    "-------\n",
    "-------"
   ]
  },
  {
   "cell_type": "markdown",
   "metadata": {},
   "source": [
    "**QQ.** Why doesn't a Python program shrink in memory after garbage collection?\n",
    "\n",
    "After garbage collection, the size of the Python program likely won't shrink.\n",
    "- The freed memory is fragmented. (it is not freed in one continues block)\n",
    "- When we say memory is freed during garbage collection, it's released back to Python to use for other objects, not necessarily to the system.\n"
   ]
  },
  {
   "cell_type": "markdown",
   "metadata": {},
   "source": [
    "-------\n",
    "-------\n",
    "-------"
   ]
  },
  {
   "cell_type": "markdown",
   "metadata": {},
   "source": [
    "#### **QQ.** What is REPL ?\n",
    "\n",
    "REPL (read-eval-print loop), also termed an interactive toplevel or language shell, is a simple computer programming environment that takes single user inputs, executes them, and returns the result to the user."
   ]
  },
  {
   "cell_type": "markdown",
   "metadata": {},
   "source": [
    "-------\n",
    "-------\n",
    "-------"
   ]
  },
  {
   "cell_type": "markdown",
   "metadata": {},
   "source": [
    "#### **QQ.** What does del statement do in Python ?\n",
    "\n",
    "- remove variables\n",
    "- items, slices from a list\n",
    "- key:value pair from a dictionary\n",
    "- Since tuples and strings are immutable, objects can not be changed after its creation. You can't delete item from tuple."
   ]
  },
  {
   "cell_type": "code",
   "execution_count": 73,
   "metadata": {},
   "outputs": [
    {
     "data": {
      "text/plain": [
       "[4, 5, 6, 7]"
      ]
     },
     "execution_count": 73,
     "metadata": {},
     "output_type": "execute_result"
    }
   ],
   "source": [
    "var1 = 5\n",
    "\n",
    "# remove variable\n",
    "del var1"
   ]
  },
  {
   "cell_type": "code",
   "execution_count": null,
   "metadata": {},
   "outputs": [],
   "source": [
    "# remove items, slices from a list\n",
    "list1 = [1,2,3,4,5,6,7]\n",
    "del list1[0]\n",
    "del list1[0:2]\n",
    "list1"
   ]
  },
  {
   "cell_type": "code",
   "execution_count": 75,
   "metadata": {},
   "outputs": [
    {
     "data": {
      "text/plain": [
       "{'age': '24', 'gender': 'male'}"
      ]
     },
     "execution_count": 75,
     "metadata": {},
     "output_type": "execute_result"
    }
   ],
   "source": [
    "# remove key:value pair from a dictionary\n",
    "dict1 = {'name':'John','age':'24','gender':'male'}\n",
    "del dict1['name']\n",
    "dict1"
   ]
  },
  {
   "cell_type": "markdown",
   "metadata": {},
   "source": [
    "-------\n",
    "-------\n",
    "-------"
   ]
  },
  {
   "cell_type": "markdown",
   "metadata": {},
   "source": [
    "#### **QQ.** What is difference between Bytecode and Machine code?\n",
    "\n",
    "- **Machine Code**: is set of instructions that directly gets executed by the **CPU**. Almost all high level languages (such as C) translate source code into executable machine code with the help of compilers, loaders and linkers. Every processor or processor family has its own machine code instruction set.\n",
    "\n",
    "High level language (C, C++) > Assembly Language > Machine Language\n",
    "\n",
    "- **Bytecode**: is also binary representation executed by the **virtual machine** (not CPU). The virtual machine (which is written different for different machines) converts binary instruction into a specific machine instruction. (one of the programmingl anugage that uses the concept of bytecode is Java)\n",
    "\n",
    "Java code (.java) > Java compiler > byte code (.class) > JVM (Windows,Linux,Mac) > Windows, Linux, Mac\n",
    "\n",
    "- **Machine code is much faster as compared to Bytecode but Bytecode is portable and secure as compared to Machine Code.**"
   ]
  },
  {
   "cell_type": "markdown",
   "metadata": {},
   "source": [
    "-------\n",
    "-------\n",
    "-------"
   ]
  },
  {
   "cell_type": "markdown",
   "metadata": {},
   "source": [
    "#### **QQ.** What are the Python implementations ?\n",
    "\n",
    "An implementation of Python should be taken to mean a program or environment which provides support for the execution of programs written in the Python language.\n",
    "\n",
    "- **CPython**: The default implementation of the Python programming lanugage is CPython. (written in C).\n",
    "    - CPython compiles the Python source code (.py) into intermediate bytecode (.pyc or .pyo), which is executed by the CPython virtual machine.\n",
    "    - This bytecode is a low-level set of instructions that can executed by an interpreter.\n",
    "    - CPython is distributed with a large standard library written in a mixture of C and Python.\n",
    "    - Cpython provides the highest level compatibility with Python packages and C extension modules.\n",
    "    - All versions of the Python language are implemented in C because CPython is the reference implementation.\n",
    "\n",
    "Python Source Code (.py) > CPython Compiler > ByteCode (.pyc) > CPython Virtual Machine (Interpreter)\n",
    "\n",
    "- **Other implementations**: There are some other implementations of the Python language too.\n",
    "    - **Jython**: is an implementation of the Python programming language that can run on the Java platform. (Pyton code > Jython Compiler > Jython Interpreter > JVM)\n",
    "    - **IronPython**: is writtin in C^targeting Microsoft's .NET framework. Similar to Jython, it uses .Net Virtual Machine. IronPython performs better in Python programs that use threads or multiple cores, as it has a JIT.\n",
    "    - **PyPy**: “If you want your code to run faster, you should probably just use PyPy.” — Guido van Rossum (creator of Python). \n",
    "        - **Python is dynamic programming language. Python is said to be slow as the default CPython implementation compiles the python source code in bytecode which is slow as compared to machine code(native code).**. \n",
    "        - PyPy is an implementation of the Python programming language written in Python. The Interpreter is written in RPython (a subset of Python).\n",
    "        - PyPy uses JIT (just in time compilation). In simple terms JIT uses compilation methods to make interpreter system more efficient and fast. So basically JIT makes it possible to compile the source code into native machine code which makes it very fast."
   ]
  },
  {
   "cell_type": "code",
   "execution_count": 5,
   "metadata": {},
   "outputs": [
    {
     "name": "stdout",
     "output_type": "stream",
     "text": [
      "CPython\n"
     ]
    }
   ],
   "source": [
    "import platform\n",
    "\n",
    "# get the current python implementation\n",
    "print(platform.python_implementation())"
   ]
  },
  {
   "cell_type": "markdown",
   "metadata": {},
   "source": [
    "-------\n",
    "-------\n",
    "-------"
   ]
  },
  {
   "cell_type": "markdown",
   "metadata": {},
   "source": [
    "#### **QQ.** What is garbage collector in Python?\n",
    "\n",
    "**Garbage Collection** is a way for a program to automatically release memory when the object taking up that space is no longer in use.\n",
    "\n",
    "- The objects are stored in memory for quick access.\n",
    "- In many programming languages , a variable in your program code is simply a pointer to the address of the object in memory. (ex: C++)\n",
    "- In early programming languages, developers were responsible for all memory management.\n",
    "    - Before creating an object, first needed to allocate the memory for the object.\n",
    "    - After you were done with the object, you needed to deallocate it to free that memory.\n",
    "    \n",
    "**Automatic memory management and garbage collection**\n",
    "\n",
    "- The runtime handled the memory management itself.\n",
    "- There are few different methods for automatic memory management, but one of the more popular ones uses reference counting. While there is no reference to a particular object, it is unusable by the program code and thus able to be deleted.\n",
    "- However, this comes at a cost. The program will need to use additional memory and computation to track all of its references.\n",
    "    - space overhead (reference count is stored for every object)\n",
    "    - execution overhead (reference count changed on every assignment, always update them after each assignment)\n",
    "- Many programming languages with automatic memory management use a “stop-the-world” process for garbage collection where all execution stops while the garbage collector looks for and deletes objects to be collected.\n",
    "\n",
    "\n",
    "**Garbage Collection in Python**\n",
    "\n",
    "It depends on the Python implementation. CPython is the most widely used implementation.\n",
    "There are two aspects to memory management and garbage collection in CPython.\n",
    "- **1. Reference counting**\n",
    "\n",
    "    - This is the main garbage collection mechanism in CPython.\n",
    "    - Whenever an object is created, the underlying C object has both a Python type (such as list, dict, or function) and a reference count.\n",
    "    - a Python object’s reference count is incremented whenever the object is referenced, and it’s decremented when an object is dereferenced. If an object’s reference count is 0, the memory for the object is deallocated.\n",
    "    - Easy to implement.\n",
    "    - It immediately remove an object when it has no references.\n",
    "    - There are few ways to **increase the reference count** for an object\n",
    "        - assigning an object to a variable.\n",
    "        - adding an object to a data structure (such as appending to a list or adding as a property on a class instance)\n",
    "        - passing the object as an argument to a function\n",
    "\n",
    "\n",
    "- **2. Generational garbage collection**\n",
    "\n",
    "In additional to reference counting strategy for memory management, Python also uses a method called a generational garbage collector. It is useful for garbage collection when **reference cycle** exists.\n",
    "   \n",
    "   - Generation: The garbage collector is keeping track of all objects in memory. A new object starts its life in the first generation of the garbage collector. If Python executes a garbage collection process on a generation and object survives, it moves up into a second older genration. The Python garvage collector has three generations in total, and an object moves into an older genration whenever it survives a garbage collection process on its current generation.\n",
    "   - Threshold: For each generation, the garbage collector module has a threshold number of objects. If the number of objects exceeds that threshold, the garbage collector will trigger a collection process. For any objects that survive that process, they are moved into an older generation.\n",
    "   \n",
    "Steps\n",
    "- Python makes a list for objects to discard.\n",
    "- It runs an algorithm to detect reference cycles.\n",
    "- If an object has no outside references (only cyclic reference) add it to the discard list.\n",
    "- When the cycle is done, free up the objects on the discard list.\n",
    "    \n",
    "**Unlike the reference counting mechanism, you may change the behaviour of the enerational gabage collector in your Python program.** This includes changing the thresholds for triggering a garbage collection process in your code, manually triggering a garbage collection process, or disabling the garbage collection process.\n",
    "\n",
    "**<span style='color:green'>In short, Python uses these two aspects.</span>**\n",
    "- When the ref count reaches 0, you get immediate clean up.\n",
    "- If you have a cycle, you need to wait for garbage collection to run"
   ]
  },
  {
   "cell_type": "code",
   "execution_count": 66,
   "metadata": {},
   "outputs": [
    {
     "data": {
      "text/plain": [
       "['1', [...]]"
      ]
     },
     "execution_count": 66,
     "metadata": {},
     "output_type": "execute_result"
    }
   ],
   "source": [
    "# Generational garbage collection handles reference cycles\n",
    "\n",
    "# Ex: cyclical references\n",
    "a = ['1']\n",
    "a.append(a)\n",
    "a"
   ]
  },
  {
   "cell_type": "markdown",
   "metadata": {},
   "source": [
    "-------\n",
    "-------\n",
    "-------"
   ]
  },
  {
   "cell_type": "code",
   "execution_count": null,
   "metadata": {},
   "outputs": [],
   "source": []
  },
  {
   "cell_type": "code",
   "execution_count": null,
   "metadata": {},
   "outputs": [],
   "source": []
  },
  {
   "cell_type": "markdown",
   "metadata": {},
   "source": [
    "-------\n",
    "-------\n",
    "-------"
   ]
  },
  {
   "cell_type": "markdown",
   "metadata": {},
   "source": [
    "#### **QQ.** What is the difference between <code>\\__sizeof__()</code> and <code>getsizeof()</code> methods?\n",
    "\n",
    "- Return the size of an object in bytes\n",
    "- <code>getsizeof()</code> is a system specific method. (**sys** module has to be imported).\n",
    "- It is actually calling <code>\\__sizeof__()</code> method and adds an additional **garbage collector overhead** if the object is managed by the garbage collector."
   ]
  },
  {
   "cell_type": "code",
   "execution_count": 7,
   "metadata": {},
   "outputs": [
    {
     "name": "stdout",
     "output_type": "stream",
     "text": [
      "__sizeof__():  64\n",
      "getsizeof():  88\n"
     ]
    }
   ],
   "source": [
    "import sys\n",
    "\n",
    "list1 = [1,2,3]\n",
    "print('__sizeof__(): ',list1.__sizeof__())\n",
    "print('getsizeof(): ', sys.getsizeof(list1))"
   ]
  },
  {
   "cell_type": "markdown",
   "metadata": {},
   "source": [
    "Both method gives the same output for strings."
   ]
  },
  {
   "cell_type": "code",
   "execution_count": 67,
   "metadata": {},
   "outputs": [
    {
     "name": "stdout",
     "output_type": "stream",
     "text": [
      "__sizeof__():  57\n",
      "getsizeof():  57\n"
     ]
    }
   ],
   "source": [
    "str1 = 'sometext'\n",
    "print('__sizeof__(): ',str1.__sizeof__())\n",
    "print('getsizeof(): ', sys.getsizeof(str1))"
   ]
  },
  {
   "cell_type": "markdown",
   "metadata": {},
   "source": [
    "-------\n",
    "-------\n",
    "-------"
   ]
  },
  {
   "cell_type": "markdown",
   "metadata": {},
   "source": [
    "**QQ.** What is hashable object?\n",
    "\n",
    "- In Python, any **immutable** object (such as integer, boolean, string, tuple) is hashable, meaning its value does not change during its lifetime.\n",
    "- This allows Python to create a unique hash value to identify it, which can be used by dictionaries to track unique keys and sets to track unique values."
   ]
  },
  {
   "cell_type": "markdown",
   "metadata": {},
   "source": [
    "-------\n",
    "-------\n",
    "-------"
   ]
  },
  {
   "cell_type": "markdown",
   "metadata": {},
   "source": [
    "#### **QQ.** What kind of objects can be key in dictionary?\n",
    "\n",
    "- Only hashable objects can be key.\n",
    "- Hashable objects are objects with a hash value that does not change over time. (like strings and tuples)\n",
    "- This makes lookup in **dict** very fast. (same for **set**)\n",
    "    - Python keeps track of each hash. When you lookup <code>if x in dict1</code>, Python will get the hash value of <code>x</code>, and look that up in an internal structure and then only compare <code>x</code> with the values that have the same hash as <code>x</code>."
   ]
  },
  {
   "cell_type": "markdown",
   "metadata": {},
   "source": [
    "-------\n",
    "-------\n",
    "-------"
   ]
  },
  {
   "cell_type": "markdown",
   "metadata": {},
   "source": [
    "#### **QQ.** What is hash value?\n",
    "\n",
    "- A hash is an fixed sized integer that identifies a particular value. Each value needs to have its own hash, so for the same value you will get the same hash even if it's not the same object.\n",
    "\n"
   ]
  },
  {
   "cell_type": "code",
   "execution_count": 68,
   "metadata": {},
   "outputs": [
    {
     "name": "stdout",
     "output_type": "stream",
     "text": [
      "4264199516514617217\n",
      "4264199516514617217\n"
     ]
    }
   ],
   "source": [
    "# same value gets same hash, even if it is not the same object\n",
    "print(hash('sometext'))\n",
    "\n",
    "s = 'sometext'\n",
    "print(hash(s))"
   ]
  },
  {
   "cell_type": "markdown",
   "metadata": {},
   "source": [
    "- Hash values need to be created in such a way that the resulting values are evenly distributed to reduce the number of hash collisions you get.\n",
    "- **Hash collisions** are when two different values have the same hash."
   ]
  },
  {
   "cell_type": "markdown",
   "metadata": {},
   "source": [
    "- Hash values are just integers that are used to compare dictionary keys during a dictionary lookup quickly.\n",
    "- Internally, <code>hash()</code> method calls <code>\\__hash__()</code> method of an object which is set by default for any object.\n",
    "- <code>hash()</code> method only works for immutable objects."
   ]
  },
  {
   "cell_type": "code",
   "execution_count": 69,
   "metadata": {},
   "outputs": [
    {
     "name": "stdout",
     "output_type": "stream",
     "text": [
      "Integer hash: 1907\n",
      "Float hash: 2121375568476768115\n",
      "String hash: 4264199516514617217\n",
      "Tuple hash: 2528502973977326415\n"
     ]
    }
   ],
   "source": [
    "print('Integer hash:',hash(1907))\n",
    "print('Float hash:',hash(1907.92))\n",
    "print('String hash:',hash('sometext'))\n",
    "print('Tuple hash:', hash((1,2,3)))"
   ]
  },
  {
   "cell_type": "markdown",
   "metadata": {},
   "source": [
    "-------\n",
    "-------\n",
    "-------"
   ]
  },
  {
   "cell_type": "markdown",
   "metadata": {},
   "source": [
    "#### **Q1.** What are the key features of Python ?\n",
    "\n",
    "- Python is an **interpreted** language. That means that, unline languages like C and its variants, Python does not need to be compiled before it is run. Other interpreted languages include PHP, Ruby, and JavaScript.\n",
    "- Python is **dynamically typed**, this means that you don't need to state the types of variables when you declare them.\n",
    "- Python is well suited to **object oriented programming** in that it allows the definiton of classes along with composition and inheritence. Python does not have access specifiers (like C++'s private, public)\n",
    "- In Python, **functions** are first class objects. This means that they can be assigned to variables, returned from other functions and passed into functions. Classes are also first class objects.\n",
    "- **Running** Python code is slower than compiled languages. Fortunately, Python allows the inclusion of C-based extensions so bottlenecks can be optimized away and often are.\n",
    "    - The numpy package is a good example of this, it is really quite quick because a lot of the number-crunching it does isn't actually done by Python."
   ]
  },
  {
   "cell_type": "markdown",
   "metadata": {},
   "source": [
    "-------\n",
    "-------\n",
    "-------"
   ]
  },
  {
   "cell_type": "markdown",
   "metadata": {},
   "source": [
    "#### **Q2.** What is the difference between Interpreted and Compiled programming languages?\n",
    "\n",
    "- In a compiled language, the target machine directly translates the all program into machine code that the processor can execute. (compiling) As a result, they tend to be faster and more efficient to execute than interpreted languages.\n",
    "- In an interpreted language, the source code is not directly translated by the target machine. Instead, a different program (aka interpreter) reads and executes the code. (line by line).\n",
    "    - Interpreter directly executes a programming language without it being compiled and converted to machine code."
   ]
  },
  {
   "cell_type": "markdown",
   "metadata": {},
   "source": [
    "-------\n",
    "-------\n",
    "-------"
   ]
  },
  {
   "cell_type": "markdown",
   "metadata": {},
   "source": [
    "#### **Q3.** What PEP8 ?\n",
    "\n",
    "PEP-8 or **Python Enhancement Proposal** is a document that provides **guidelines and best practices** on how to write Python code. It was written in 2001 by Guideo van Rossum, Barry Warsaw, and Nick Coghlan."
   ]
  },
  {
   "cell_type": "markdown",
   "metadata": {},
   "source": [
    "-------\n",
    "-------\n",
    "-------"
   ]
  },
  {
   "cell_type": "markdown",
   "metadata": {},
   "source": [
    "#### **Q4.** How is memory managed in Python ?\n",
    "\n",
    "1. Memory management in Python involves a **private heap** containing all Python objects and data structures. \n",
    "2. The management of this private heap is ensured internally by the **Python memory manager**. The allocation of heap space for Python objects is done by Python's memory manager.\n",
    "2. Python also has an built-in **garbage collector**, which recycles all the unused memory and so that it can be made available to the heap space."
   ]
  },
  {
   "cell_type": "markdown",
   "metadata": {},
   "source": [
    "#### **Q5.** What is namespace in Python ? \n",
    "\n",
    "A **namespace** is a collection of currently defined symbolic names along with information about the object that each name references. You can think of a namespace as a dictionary in which the keys are the object names and the values are the objects themselves. Each key-value pair maps a name to its corresponding object.\n",
    "\n",
    "In a Python program, there are four types of namespaces:\n",
    "\n",
    "1. **Built-in**: It contains the names of all of Python's built-in objects. These are available at all times when Python is running.\n",
    "2. **Global namespace**: It contains any names defined at the level of the main program. Python creates the global namespace when the main program body starts, and it remains in existence until the interpreter terminates.\n",
    "3. **Local namespace**: This namespace includes local names inside a function. This namespace is created when a function is **called**, and it only lasts until the function returns.\n",
    "4. **Enclosing namespace**: It is a namespace created for inner function when an outer function calls another inner function."
   ]
  },
  {
   "cell_type": "code",
   "execution_count": 82,
   "metadata": {},
   "outputs": [
    {
     "data": {
      "text/plain": [
       "['ArithmeticError',\n",
       " 'AssertionError',\n",
       " 'AttributeError',\n",
       " 'BaseException',\n",
       " 'BlockingIOError']"
      ]
     },
     "execution_count": 82,
     "metadata": {},
     "output_type": "execute_result"
    }
   ],
   "source": [
    "# list of all objects in built-in namespace\n",
    "dir(__builtins__)[0:5]"
   ]
  },
  {
   "cell_type": "code",
   "execution_count": 120,
   "metadata": {},
   "outputs": [
    {
     "name": "stdout",
     "output_type": "stream",
     "text": [
      "global_var (inside foo): 10\n",
      "local_var: 5\n",
      "gvfoo (global variable defined inside foo as global): 100\n"
     ]
    }
   ],
   "source": [
    "# global and local variables example 1\n",
    "\n",
    "global_var = 10        #global namespace\n",
    "\n",
    "def foo():\n",
    "    print('global_var (inside foo):', global_var)\n",
    "    \n",
    "    local_var = 5     #local namespace\n",
    "    print('local_var:', local_var)\n",
    "    \n",
    "    global gvfoo\n",
    "    gvfoo = 100     # global variable defined inside a function\n",
    "\n",
    "# local var is not defined outside of the local namespace\n",
    "#print('local_var:', local_var)\n",
    "\n",
    "foo()\n",
    "\n",
    "# since it is defined as global variable, it is in global namespace\n",
    "print('gvfoo (global variable defined inside foo as global):',gvfoo)"
   ]
  },
  {
   "cell_type": "code",
   "execution_count": 110,
   "metadata": {},
   "outputs": [
    {
     "name": "stdout",
     "output_type": "stream",
     "text": [
      "200\n"
     ]
    }
   ],
   "source": [
    "# global and local variables example 2\n",
    "\n",
    "gv = 200\n",
    "\n",
    "def foo():\n",
    "    print(gv) #global variable\n",
    "foo()"
   ]
  },
  {
   "cell_type": "code",
   "execution_count": 111,
   "metadata": {},
   "outputs": [
    {
     "ename": "UnboundLocalError",
     "evalue": "local variable 'gv' referenced before assignment",
     "output_type": "error",
     "traceback": [
      "\u001b[1;31m---------------------------------------------------------------------------\u001b[0m",
      "\u001b[1;31mUnboundLocalError\u001b[0m                         Traceback (most recent call last)",
      "\u001b[1;32m<ipython-input-111-23ca802c682a>\u001b[0m in \u001b[0;36m<module>\u001b[1;34m\u001b[0m\n\u001b[0;32m      5\u001b[0m     \u001b[1;31m# below code will give an error since gv is used before assignment\u001b[0m\u001b[1;33m\u001b[0m\u001b[1;33m\u001b[0m\u001b[1;33m\u001b[0m\u001b[0m\n\u001b[0;32m      6\u001b[0m     \u001b[0mgv\u001b[0m \u001b[1;33m=\u001b[0m \u001b[0mgv\u001b[0m \u001b[1;33m*\u001b[0m \u001b[1;36m2\u001b[0m\u001b[1;33m\u001b[0m\u001b[1;33m\u001b[0m\u001b[0m\n\u001b[1;32m----> 7\u001b[1;33m \u001b[0mfoo\u001b[0m\u001b[1;33m(\u001b[0m\u001b[1;33m)\u001b[0m\u001b[1;33m\u001b[0m\u001b[1;33m\u001b[0m\u001b[0m\n\u001b[0m",
      "\u001b[1;32m<ipython-input-111-23ca802c682a>\u001b[0m in \u001b[0;36mfoo\u001b[1;34m()\u001b[0m\n\u001b[0;32m      4\u001b[0m     \u001b[1;31m# if you try to assign (create) same name, it will be treated as local variable\u001b[0m\u001b[1;33m\u001b[0m\u001b[1;33m\u001b[0m\u001b[1;33m\u001b[0m\u001b[0m\n\u001b[0;32m      5\u001b[0m     \u001b[1;31m# below code will give an error since gv is used before assignment\u001b[0m\u001b[1;33m\u001b[0m\u001b[1;33m\u001b[0m\u001b[1;33m\u001b[0m\u001b[0m\n\u001b[1;32m----> 6\u001b[1;33m     \u001b[0mgv\u001b[0m \u001b[1;33m=\u001b[0m \u001b[0mgv\u001b[0m \u001b[1;33m*\u001b[0m \u001b[1;36m2\u001b[0m\u001b[1;33m\u001b[0m\u001b[1;33m\u001b[0m\u001b[0m\n\u001b[0m\u001b[0;32m      7\u001b[0m \u001b[0mfoo\u001b[0m\u001b[1;33m(\u001b[0m\u001b[1;33m)\u001b[0m\u001b[1;33m\u001b[0m\u001b[1;33m\u001b[0m\u001b[0m\n",
      "\u001b[1;31mUnboundLocalError\u001b[0m: local variable 'gv' referenced before assignment"
     ]
    }
   ],
   "source": [
    "gv = 200\n",
    "\n",
    "def foo():\n",
    "    # if you try to assign (create) same name, it will be treated as local variable\n",
    "    # below code will give an error since local variable gv is used before assignment\n",
    "    gv = gv * 2\n",
    "foo()"
   ]
  },
  {
   "cell_type": "code",
   "execution_count": 113,
   "metadata": {},
   "outputs": [
    {
     "name": "stdout",
     "output_type": "stream",
     "text": [
      "100\n"
     ]
    }
   ],
   "source": [
    "gv = 200\n",
    "\n",
    "def foo():\n",
    "    # if you want to change the value of global variable, define it as global\n",
    "    global gv\n",
    "    gv = 100\n",
    "foo()\n",
    "print(gv)"
   ]
  },
  {
   "cell_type": "code",
   "execution_count": 123,
   "metadata": {},
   "outputs": [
    {
     "name": "stdout",
     "output_type": "stream",
     "text": [
      "foo: 5\n",
      "bar: 4\n",
      "foo after calling bar: 5\n"
     ]
    }
   ],
   "source": [
    "# local namespace and enclosing namespace\n",
    "def foo():\n",
    "    x = 5                 # local namespace\n",
    "    print('foo:', x)\n",
    "    \n",
    "    def bar():\n",
    "        x = 4             # enclosing namespace\n",
    "        print('bar:', x)\n",
    "        \n",
    "    bar()\n",
    "    print('foo after calling bar:', x)\n",
    "\n",
    "foo()"
   ]
  },
  {
   "cell_type": "markdown",
   "metadata": {},
   "source": [
    "-------\n",
    "-------\n",
    "-------"
   ]
  },
  {
   "cell_type": "markdown",
   "metadata": {},
   "source": [
    "#### Q6.  What does <code>nonlocal</code> keyword do?\n",
    "\n",
    "The nonlocal keyword is used to work with variables inside nested functions, where the variable should not belong to the inner function.\n",
    "Use the keyword nonlocal to declare that the variable is not local."
   ]
  },
  {
   "cell_type": "code",
   "execution_count": 125,
   "metadata": {},
   "outputs": [
    {
     "name": "stdout",
     "output_type": "stream",
     "text": [
      "foo: 5\n",
      "bar: 4\n",
      "foo after calling bar: 4\n"
     ]
    }
   ],
   "source": [
    "def foo():\n",
    "    x = 5                 # local namespace\n",
    "    print('foo:', x)\n",
    "    \n",
    "    def bar():\n",
    "        nonlocal x        # this x belongs to outer function\n",
    "        x = 4             # enclosing namespace\n",
    "        print('bar:', x)\n",
    "        \n",
    "    bar()\n",
    "    print('foo after calling bar:', x)\n",
    "\n",
    "foo()"
   ]
  },
  {
   "cell_type": "markdown",
   "metadata": {},
   "source": [
    "-------\n",
    "-------\n",
    "-------"
   ]
  },
  {
   "cell_type": "markdown",
   "metadata": {},
   "source": [
    "#### QQ. What is **\\__pycache__** folder ?\n",
    "\n",
    "- To speed up loading modules, Python caches the compiled version of each module in the **\\__pycache__** directory under the name **module.version.pyc.** (Ex: \\__pycache__/spam.cpython-36.pyc)\n",
    "- When a module is imported for the first time (or when the source file has changed since the current compiled file was created) a .pyc file containing the compiled code should be created in a \\__pycache__ subdirectory of the directory containing the .py file.(source code)\n",
    "- At the time when you run a program in python, the interpreter compiles it to bytecode first and after compilation interpreter stores it in the **\\__pycache__** folder.\n",
    "- There will be files with extensions either .pyc or pyo. These are bytecode-compiled and optimized bytecode-compiled versions of your program's files.\n",
    "- **\\__pycache__** makes your program to start a little faster.\n",
    "- When your script changes, they will be recompiled, and if you delete the files or the whole folder and run your program again, they will reappear.\n",
    "- If you are using CPython implementation, it can be suppressed by executing python program with \n",
    "    - python -B foo.py\n",
    "    \n",
    "**Note:** No such folder is created for the standard library, as the standard library is pre-cached when you install Python."
   ]
  },
  {
   "cell_type": "markdown",
   "metadata": {},
   "source": [
    "-------\n",
    "-------\n",
    "-------"
   ]
  },
  {
   "cell_type": "markdown",
   "metadata": {},
   "source": [
    "#### QQ. Does Python interpreted or compiled language?\n",
    "\n",
    "Python is an interpreted language, as opposed to a compiled one, though the distinction can be blurry because of the presence of the bytecode compiler. This means that source files can be run directly without explicitly creating an executable which is then run.\n",
    "\n",
    "Python is known as interpreted since\n",
    "- Python's compilation to bytecode is entirely implicit. You never invoke a compiler, you simply run a .py file. The Python implementation (CPython, Jython etc.) compiles the files as needed.\n",
    "- Python has interactive prompt. You can type Python statemetns and have them immediately executed. This interactivity is usually missing in “compiled” languages.\n",
    "    - But even at the Python interactive prompt, your Python is compiled to bytecode, and then bytecode is executed. This immediate execution, and Python’s lack of an explicit compile step, are why people call the Python executable “the Python interpreter.”"
   ]
  },
  {
   "cell_type": "markdown",
   "metadata": {},
   "source": [
    "-------\n",
    "-------\n",
    "-------"
   ]
  },
  {
   "cell_type": "markdown",
   "metadata": {},
   "source": [
    "#### QQ. What does dis module do ?\n",
    "\n",
    "The **dis module** supports the analysis of CPython bytecode by disassembling it. "
   ]
  },
  {
   "cell_type": "code",
   "execution_count": 126,
   "metadata": {},
   "outputs": [
    {
     "name": "stdout",
     "output_type": "stream",
     "text": [
      "  3           0 LOAD_GLOBAL              0 (print)\n",
      "              2 LOAD_CONST               1 ('You say:')\n",
      "              4 LOAD_FAST                0 (sometext)\n",
      "              6 CALL_FUNCTION            2\n",
      "              8 POP_TOP\n",
      "\n",
      "  4          10 LOAD_CONST               2 (0)\n",
      "             12 RETURN_VALUE\n"
     ]
    }
   ],
   "source": [
    "import dis\n",
    "def myfunc(sometext):\n",
    "    print('You say:',sometext)\n",
    "    return 0\n",
    "\n",
    "dis.dis(myfunc)"
   ]
  },
  {
   "cell_type": "markdown",
   "metadata": {},
   "source": [
    "-------\n",
    "-------\n",
    "-------"
   ]
  },
  {
   "cell_type": "markdown",
   "metadata": {},
   "source": [
    "#### QQ. What is PYTHONPATH?\n",
    "\n",
    "Python's behavior is greatly influenced by its environment variables. One of those variables is **PYTHONPATH**.\n",
    "- It is used to set the path for the user-defined module so that it can be directly imported into a Python program.\n",
    "- It is also responsible for handling the default search path for Python Modules.\n",
    "- The **PYTHONPATH** variable holds a string with the name of various directories that need to be added to the **sys.path** directory list by Python.\n",
    "- The primary use of this variable is to allow users to import modules that are not made installable yet. (not possible to install module via pip, such as a module that defined by user)\n",
    "- **In other words, the only reason to set PYTHONPATH is to maintain directories of custom Python libraries that you do not want to install in the global default location (i.e., the site-packages directory).**"
   ]
  },
  {
   "cell_type": "markdown",
   "metadata": {},
   "source": [
    "-------\n",
    "-------\n",
    "-------"
   ]
  },
  {
   "cell_type": "markdown",
   "metadata": {},
   "source": [
    "#### QQ. What are Python modules? What are some of the the commonly used built-in modules in Python?\n",
    "\n",
    "- Python modules are files consisting of Python code. A module can define **functions, classes and variables**.\n",
    "- A module is a .py file containing executable code.\n",
    "- Ex: os, sys, math, random, date time, JSON"
   ]
  },
  {
   "cell_type": "markdown",
   "metadata": {},
   "source": [
    "-------\n",
    "-------\n",
    "-------"
   ]
  },
  {
   "cell_type": "markdown",
   "metadata": {},
   "source": [
    "#### QQ. Is Python case sensitive?\n",
    "\n",
    "Python is a case sensitive language."
   ]
  },
  {
   "cell_type": "code",
   "execution_count": 127,
   "metadata": {},
   "outputs": [
    {
     "data": {
      "text/plain": [
       "False"
      ]
     },
     "execution_count": 127,
     "metadata": {},
     "output_type": "execute_result"
    }
   ],
   "source": [
    "str1 = 'John'\n",
    "str2 = 'john'\n",
    "str1 == str2"
   ]
  },
  {
   "cell_type": "markdown",
   "metadata": {},
   "source": [
    "-------\n",
    "-------\n",
    "-------"
   ]
  },
  {
   "cell_type": "markdown",
   "metadata": {},
   "source": [
    "**QQ. What is type conversion in Python?**\n",
    "\n",
    "Type conversion refers to the conversion of one data type into another.\n",
    "- **int()**\n",
    "- **float()**\n",
    "- **ord()** : converts characters to unicode code\n",
    "- **chr()** : inverse of ord() function\n",
    "- **hex()** : converts integers to hexadecimal\n",
    "- **oct()** : converts integer to octal\n",
    "- **str()** : converts number into a string\n",
    "- **tuple()**, **set()**, **list()**, **dict()**"
   ]
  },
  {
   "cell_type": "code",
   "execution_count": 145,
   "metadata": {},
   "outputs": [
    {
     "name": "stdout",
     "output_type": "stream",
     "text": [
      "Number     Hexadecimal      Octal\n",
      "0          0x0               0o0\n",
      "1          0x1               0o1\n",
      "2          0x2               0o2\n",
      "3          0x3               0o3\n",
      "4          0x4               0o4\n",
      "5          0x5               0o5\n",
      "6          0x6               0o6\n",
      "7          0x7               0o7\n",
      "8          0x8              0o10\n",
      "9          0x9              0o11\n",
      "10         0xa              0o12\n",
      "11         0xb              0o13\n",
      "12         0xc              0o14\n",
      "13         0xd              0o15\n",
      "14         0xe              0o16\n",
      "15         0xf              0o17\n"
     ]
    }
   ],
   "source": [
    "print(f'{\"Number\":<10}',f'{\"Hexadecimal\":<10}',f'{\"Octal\":>10}')\n",
    "for i in range(16):\n",
    "    print(f'{i:<10}',f'{hex(i):<10}',f'{oct(i):>10}')"
   ]
  },
  {
   "cell_type": "code",
   "execution_count": 151,
   "metadata": {},
   "outputs": [
    {
     "name": "stdout",
     "output_type": "stream",
     "text": [
      "char  ord()\n",
      "a     97   \n",
      "b     98   \n",
      "c     99   \n",
      "d     100  \n",
      "e     101  \n",
      "f     102  \n",
      "g     103  \n",
      "h     104  \n"
     ]
    }
   ],
   "source": [
    "char_string = \"abcdefgh\"\n",
    "print(f'{\"char\":<5}', f'{\"ord()\":<5}')\n",
    "for i in char_string:\n",
    "    print(f'{i:<5}', f'{ord(i):<5}')"
   ]
  },
  {
   "cell_type": "markdown",
   "metadata": {},
   "source": [
    "-------\n",
    "-------\n",
    "-------"
   ]
  },
  {
   "cell_type": "markdown",
   "metadata": {},
   "source": [
    "#### QQ. What is unicode? What is the difference between unicode and ASCII?\n",
    "\n",
    "- Unicode is a universal character encoding standard that assigns a unique code to every character and symbol in every language in the world.\n",
    "- **Unicode** is an IT standard for the consistent encoding, representation, and handling of text expressed in most of the world's writing system.\n",
    "- The standard is maintained by Unicode Consortium.\n",
    "\n",
    "The difference between Unicode and ASCII\n",
    "- Unicode covers letters of many different languages (including English, Greek, Arabic ...), mathematical symbols, historical scripts.\n",
    "- ASCII is limited to few characters such as uppercase and lowercase letters, symbols, and digits(0-9)"
   ]
  },
  {
   "cell_type": "markdown",
   "metadata": {},
   "source": [
    "-------\n",
    "-------\n",
    "-------"
   ]
  },
  {
   "cell_type": "markdown",
   "metadata": {},
   "source": [
    "QQ. What is **shebang** line?\n",
    "\n",
    "- If the first line of a script file starts with <code>#!</code>, it is known as a **shabang** line.\n",
    "- Linux and other Unix like operating systems have native support for such lines and they are commonly used on such systems to indicate how a script should be executed.\n",
    "- It defines where the interpreter is located.\n",
    "\n",
    "Ex: <code>#!/usr/bin/python3</code>"
   ]
  },
  {
   "cell_type": "markdown",
   "metadata": {},
   "source": [
    "-------\n",
    "-------\n",
    "-------"
   ]
  },
  {
   "cell_type": "markdown",
   "metadata": {},
   "source": [
    "#### QQ. What is the difference between Python **Arrays** and **Lists**?\n",
    "\n",
    "- Arrays and Lists have the samw way of storing data.\n",
    "- Arrays are also mutable like Lists.\n",
    "- But, arrays can hold only a single data type elemenets whereas lists can hold any data type elements.\n",
    "- If you need to do mathematical computation on arrays and matrices, it is much better to use NumPy arrays."
   ]
  },
  {
   "cell_type": "markdown",
   "metadata": {},
   "source": [
    "import array as arr\n",
    "\n",
    "#array of integer\n",
    "ex_arr = arr.array('i',[1,2,3,4])\n",
    "ex_list = [1,2,3,'4']\n",
    "print(ex_arr)\n",
    "print(ex_list)"
   ]
  },
  {
   "cell_type": "markdown",
   "metadata": {},
   "source": [
    "-------\n",
    "-------\n",
    "-------"
   ]
  },
  {
   "cell_type": "markdown",
   "metadata": {},
   "source": [
    "#### QQ. What is <code>lambda</code> function?\n",
    "\n",
    "- An anonymous function is known as a lambda function.\n",
    "- It is a quicker way to write functions on the fly. They are used for simple functions to write fewer lines of code.\n",
    "- This function can have any number of paramters, but can have just one statement."
   ]
  },
  {
   "cell_type": "code",
   "execution_count": 153,
   "metadata": {},
   "outputs": [
    {
     "data": {
      "text/plain": [
       "20"
      ]
     },
     "execution_count": 153,
     "metadata": {},
     "output_type": "execute_result"
    }
   ],
   "source": [
    "anonymous_foo = lambda x,y : x*y\n",
    "anonymous_foo(5,4)"
   ]
  },
  {
   "cell_type": "markdown",
   "metadata": {},
   "source": [
    "-------\n",
    "-------\n",
    "-------"
   ]
  },
  {
   "cell_type": "markdown",
   "metadata": {},
   "source": [
    "#### QQ. What is <code>self</code> in Python?\n",
    "\n",
    "- Self is an instances or an object of a class.\n",
    "- In Python, this is explicitly included as the first parameter.\n",
    "- The self variable in the <code>\\__init__</code> method refers to the newly created object while in other methods, it refers to the bject whose method was called."
   ]
  },
  {
   "cell_type": "code",
   "execution_count": 158,
   "metadata": {},
   "outputs": [
    {
     "name": "stdout",
     "output_type": "stream",
     "text": [
      "Name: John, Age: 25\n",
      "Name: John, Age: 30\n"
     ]
    }
   ],
   "source": [
    "class myClass:\n",
    "    def __init__(self,name,age):\n",
    "        self.name = name\n",
    "        self.age = age\n",
    "    \n",
    "    def increase_age(self,number):\n",
    "        self.age += number\n",
    "        \n",
    "    def __repr__(self):\n",
    "        return f\"Name: {self.name}, Age: {self.age}\"\n",
    "        \n",
    "person = myClass('John',25)\n",
    "print(person)\n",
    "person.increase_age(5)\n",
    "print(person)"
   ]
  },
  {
   "cell_type": "markdown",
   "metadata": {},
   "source": [
    "-------\n",
    "-------\n",
    "-------"
   ]
  },
  {
   "cell_type": "markdown",
   "metadata": {},
   "source": [
    "#### QQ. How does <code>break</code>,<code>continue</code>,<code>pass</code> work in Python?\n",
    "\n",
    "- <code>break</code>: allows loop termination and the control is transferred to the next statement.\n",
    "- <code>continue</code>: allows skipping some part of a loop and the control is transferred to the beginning of the loop\n",
    "- <code>pass</code>: used when you need some block of code syntactically, but you want to skip its execution. This is basically a null operation. Nothing happens when **pass** is executed."
   ]
  },
  {
   "cell_type": "code",
   "execution_count": 166,
   "metadata": {},
   "outputs": [
    {
     "name": "stdout",
     "output_type": "stream",
     "text": [
      "Break on 3\n",
      "0-1-2-\n",
      " **********\n",
      "Continue on 3\n",
      "0-1-2-4-5-6-7-8-9-"
     ]
    }
   ],
   "source": [
    "print('Break on 3')\n",
    "for i in range(10):\n",
    "    if i == 3:\n",
    "        break\n",
    "    print(i, end='-')\n",
    "\n",
    "print('\\n','*'*10)\n",
    "print('Continue on 3')\n",
    "for i in range(10):\n",
    "    if i == 3:\n",
    "        continue\n",
    "    print(i, end='-')"
   ]
  },
  {
   "cell_type": "markdown",
   "metadata": {},
   "source": [
    "-------\n",
    "-------\n",
    "-------"
   ]
  },
  {
   "cell_type": "markdown",
   "metadata": {},
   "source": [
    "#### QQ. What does [::-1] do?\n",
    "\n",
    "It is used to reverse the order of an array or a sequence. It does not change the original object, but creates a copy."
   ]
  },
  {
   "cell_type": "code",
   "execution_count": 168,
   "metadata": {},
   "outputs": [
    {
     "data": {
      "text/plain": [
       "[5, 4, 3, 2, 1]"
      ]
     },
     "execution_count": 168,
     "metadata": {},
     "output_type": "execute_result"
    }
   ],
   "source": [
    "list1 = [1,2,3,4,5]\n",
    "list1[::-1]"
   ]
  },
  {
   "cell_type": "markdown",
   "metadata": {},
   "source": [
    "-------\n",
    "-------\n",
    "-------"
   ]
  },
  {
   "cell_type": "markdown",
   "metadata": {},
   "source": [
    "#### QQ. How can you randomize the items of a list in place in Python?\n",
    "\n",
    "- <code>shuffle</code> method can be used for suffling the sequence.\n",
    "- It is changing the original object."
   ]
  },
  {
   "cell_type": "code",
   "execution_count": 178,
   "metadata": {},
   "outputs": [
    {
     "data": {
      "text/plain": [
       "['a', 'c', 'b']"
      ]
     },
     "execution_count": 178,
     "metadata": {},
     "output_type": "execute_result"
    }
   ],
   "source": [
    "from random import shuffle\n",
    "list1 = ['a','b','c','d']\n",
    "shuffle(list1)\n",
    "list1"
   ]
  },
  {
   "cell_type": "markdown",
   "metadata": {},
   "source": [
    "-------\n",
    "-------\n",
    "-------"
   ]
  },
  {
   "cell_type": "markdown",
   "metadata": {},
   "source": [
    "#### QQ. What are Python iterators and iterables?\n",
    "\n",
    "- An iterator is an object that contains a countable number of values.\n",
    "- An iterator is an object that can be iterated upon, meaning that you can traverse through all the values.\n",
    "- Technically, in Python, an iterator is an boject which implements the **iterator protocal**, which consist of the methods <code>\\_\\_iter__()</code> and <code>\\__next__()</code>\n",
    "    - An iterator protocol is a specific class in Python which futher has the <code>\\__next__()</code> method.\n",
    "    - That means every time you ask for the next value, an iterator knows how to compute it.\n",
    "    - It keeps information about the current state of the **iterable** it is working on.\n",
    "    \n",
    "**Iterator vs Iterable**\n",
    "\n",
    "- Lists, tuples, strings, dictionaries, and sets are all iterable objects. They are iterable **containers** which you can get an iterator from.\n",
    "- All these objects have a  <code>iter()</code> method which is used to get an iterator.\n",
    "- When **for loop** is used on iterable, it creates iterator object and executes the <code>next()</code> method for each loop"
   ]
  },
  {
   "cell_type": "code",
   "execution_count": 182,
   "metadata": {},
   "outputs": [
    {
     "name": "stdout",
     "output_type": "stream",
     "text": [
      "apple\n",
      "banana\n",
      "cherry\n"
     ]
    }
   ],
   "source": [
    "mytuple = ('apple', 'banana', 'cherry')\n",
    "myit = iter(mytuple)\n",
    "\n",
    "print(next(myit))\n",
    "print(next(myit))\n",
    "print(next(myit))\n",
    "\n",
    "# calling next one more time gives StopIteration error\n",
    "# print(next(myit))"
   ]
  },
  {
   "cell_type": "code",
   "execution_count": 190,
   "metadata": {},
   "outputs": [
    {
     "name": "stdout",
     "output_type": "stream",
     "text": [
      "a\n",
      "p\n",
      "p\n",
      "l\n",
      "e\n"
     ]
    }
   ],
   "source": [
    "mystr = 'apple'\n",
    "myit = iter(mystr)\n",
    "\n",
    "print(next(myit))\n",
    "print(next(myit))\n",
    "print(next(myit))\n",
    "print(next(myit))\n",
    "print(next(myit))\n",
    "\n",
    "# calling next one more time gives StopIteration error\n",
    "# print(next(myit))"
   ]
  },
  {
   "cell_type": "code",
   "execution_count": 191,
   "metadata": {},
   "outputs": [
    {
     "name": "stdout",
     "output_type": "stream",
     "text": [
      "apple-banana-cherry-"
     ]
    }
   ],
   "source": [
    "mytuple = ('apple', 'banana', 'cherry')\n",
    "\n",
    "for x in mytuple:\n",
    "    print(x, end='-')"
   ]
  },
  {
   "cell_type": "markdown",
   "metadata": {},
   "source": [
    "**Create an iterator**\n",
    "\n",
    "- To create an object/class as an iterator you have to implement the methods <code>\\_\\_iter__()</code> and <code>\\__next__()</code> to your object.\n",
    "- The <code>\\_\\_iter__()</code> method acts similar (like **\\_\\_init__**), you can do operations (initializing etc.)\n",
    "- The <code>\\__next__()</code> method also allows you to do operations, and must return the next item in the sequence. (usually it returns the current item and increments the sequence for returning next item in the next call)\n",
    "\n",
    "- **StopIteration**: If there is no stop criteria, it would continue forever. You can always call next method, there is no limit. \n",
    "    - To prevent the iteration to go on forever, we can use the <code>StopIteration</code> statement.\n",
    "    - In the <code>\\__next__()</code> method, we can add a terminating condition to raise an error if the iteration is done a specified number of times."
   ]
  },
  {
   "cell_type": "code",
   "execution_count": 198,
   "metadata": {},
   "outputs": [
    {
     "name": "stdout",
     "output_type": "stream",
     "text": [
      "1\n",
      "2\n",
      "3\n"
     ]
    }
   ],
   "source": [
    "class myNumbers():\n",
    "    def __iter__(self):\n",
    "        self.counter=1\n",
    "        return self\n",
    "    \n",
    "    def __next__(self):\n",
    "        if self.counter <= 3:\n",
    "            temp = self.counter\n",
    "            self.counter += 1\n",
    "            return temp\n",
    "        else:\n",
    "            raise StopIteration\n",
    "        \n",
    "    \n",
    "\n",
    "myObject = myNumbers()\n",
    "myiter = iter(myObject)\n",
    "\n",
    "print(next(myiter))\n",
    "print(next(myiter))\n",
    "print(next(myiter))\n",
    "\n",
    "# calling next one more time gives StopIteration error\n",
    "# print(next(myit))"
   ]
  },
  {
   "cell_type": "markdown",
   "metadata": {},
   "source": [
    "-------\n",
    "-------\n",
    "-------"
   ]
  },
  {
   "cell_type": "markdown",
   "metadata": {},
   "source": [
    "#### QQ. How can you generate random numbers in Python?\n",
    "\n",
    "**Random** module is the standard module that is used to generate a random number.\n",
    "- <code>random()</code>: return the floating point number that is in the range of [0,1)\n",
    "- <code>randrange(a,b)</code>: return an integer in the range of [a,b)\n",
    "- <code>uniform(a,b)</code>: return a floating point number in the range of [a,b)\n",
    "- <code>normalvariate(mean,stdev)</code>: return a floating point number based on normal distribution"
   ]
  },
  {
   "cell_type": "code",
   "execution_count": 219,
   "metadata": {},
   "outputs": [
    {
     "name": "stdout",
     "output_type": "stream",
     "text": [
      "random(): 0.9519922435432963\n",
      "randrange(5,10): 7\n",
      "random.uniform(5,10): 7.0452659315788315\n",
      "random.normalvariate(100,10): 70.6744476311439\n"
     ]
    }
   ],
   "source": [
    "import random\n",
    "print('random():',random.random())\n",
    "print('randrange(5,10):',random.randrange(5,10))\n",
    "print('random.uniform(5,10):',random.uniform(5,10))\n",
    "print('random.normalvariate(100,10):',random.normalvariate(100,25))"
   ]
  },
  {
   "cell_type": "markdown",
   "metadata": {},
   "source": [
    "-------\n",
    "-------\n",
    "-------"
   ]
  },
  {
   "cell_type": "markdown",
   "metadata": {},
   "source": [
    "#### QQ. What is the difference between range & xrange?\n",
    "\n",
    "- <code>range()</code> returns a range object (a type of iterable). It uses **lazy evaluation** strategy. Instead of creating a huge list of elements in range, it creates range object that represents the required elements in the given range. (**without storing them explicitly in memory**)\n",
    "- <code>xrange()</code> returns the **generator object** (xrange object) that can be used to display numbers only by looping. Only particular range is displayed on demand and hence called **lazy evaluation**.\n",
    "- <code>xrange()</code> function is deprecated in Python 3."
   ]
  },
  {
   "cell_type": "code",
   "execution_count": 221,
   "metadata": {},
   "outputs": [
    {
     "data": {
      "text/plain": [
       "range"
      ]
     },
     "execution_count": 221,
     "metadata": {},
     "output_type": "execute_result"
    }
   ],
   "source": [
    "type(range(5))"
   ]
  },
  {
   "cell_type": "markdown",
   "metadata": {},
   "source": [
    "-------\n",
    "-------\n",
    "-------"
   ]
  },
  {
   "cell_type": "markdown",
   "metadata": {},
   "source": [
    "#### QQ. What is pickling and unpickling?"
   ]
  },
  {
   "cell_type": "markdown",
   "metadata": {},
   "source": [
    "- The **pickle** module implements binary protocols for serializing and de-serializing a Python object structure.\n",
    "- 'Pickling' is the process whereby a Python object hierarchy is converted into a byte stream, and 'Unpickling' is the inverse operation, whereby a byte stream (from a binary file or bytes-like object) is converted back into an object hierarchy.\n",
    "- Pickling and Unpickling is alternatively known as **serialization** and **marshalling**.\n",
    "- Its protocol is specific to Python. If you want to use data across different programming languages, pickle is not recommended.\n",
    "    - It is possible to construct **malicious** pickle data which will execute arbitrary code during unpickling. The pickle module is not secure.\n",
    "- JSON is a lightweight format for data-interchange, that is easily readable by humans. It is standardized and language-independent. This is a serious advantage over pickle. It is also more secure and much faster than pickle."
   ]
  },
  {
   "cell_type": "code",
   "execution_count": 224,
   "metadata": {},
   "outputs": [
    {
     "name": "stdout",
     "output_type": "stream",
     "text": [
      "Read dictionary: {'name': ['John', 'Alice'], 'age': [24, 26]}\n"
     ]
    }
   ],
   "source": [
    "import pickle\n",
    "sample_dict = {'name':['John','Alice'], 'age':[24,26]}\n",
    "\n",
    "filename = 'ex_file'\n",
    "# open a file in write/binary mode\n",
    "outfile = open(filename, 'wb')\n",
    "\n",
    "pickle.dump(sample_dict,outfile)\n",
    "outfile.close()\n",
    "\n",
    "# open a file in read/binary mode\n",
    "infile = open(filename, 'rb')\n",
    "new_dict = pickle.load(infile)\n",
    "print('Read dictionary:', new_dict)\n",
    "infile.close()"
   ]
  },
  {
   "cell_type": "markdown",
   "metadata": {},
   "source": [
    "-------\n",
    "-------\n",
    "-------"
   ]
  },
  {
   "cell_type": "markdown",
   "metadata": {},
   "source": [
    "#### QQ. What does the <code>yield</code> keyword do?\n",
    "\n",
    "- <code>yield</code> is a keyword in Python that is used to return from a function without destroying the states of its local variable and when the function is called, the execution starts from the last yield statement.\n",
    "- Any function that contains a <code>yield</code> keyword is termed as **generator.\n",
    "- Hence, yield is what makes a generator."
   ]
  },
  {
   "cell_type": "markdown",
   "metadata": {},
   "source": [
    "-------\n",
    "-------\n",
    "-------"
   ]
  },
  {
   "cell_type": "markdown",
   "metadata": {},
   "source": [
    "#### QQ. What are the generators in Python?\n",
    "\n",
    "There is a lot of work in building an **iterator** in Python. We have to implement a class with <code>\\__iter__()</code> and <code>\\__next__()</code> method, keep track of internal states, and raise <code>StopIteration</code> when there are no values to be returned.\n",
    "- **Generators** are a simple way of creating iterators. All the work mentioned above are automatically handled by generators in Python.\n",
    "- A **generator** is a function that returns an object(iterator) which we can iteratre over(one value at a time)\n",
    "- It is simply a function but with a <code>yield</code> statement instead of <code>return</code>.\n",
    "- If a function contains at least one <code>yield</code> statement (it may contain other yield or return statements), it becomes generator function.\n",
    "- The difference is that while a <code>return</code> statement terminates a function entirely, <code>yield</code> statemetn pauses the function saving all its states and later continues from there on successive calls.\n",
    "\n",
    "**Differences between Generator function and Normal Function**\n",
    "- Generator function contains one or more <code>yield</code> statements.\n",
    "- When called, it <span style='color:red'>returns an object(iterator)</span> but does not start execution immediately.\n",
    "- Methods like <code>\\_\\_iter__()</code> and <code>\\_\\_next__()</code> are implemented automatically. So we can iterate throug the items using <code>next()</code>\n",
    "- Once the function yields, the function is paused an the control is transferred to the caller.\n",
    "- Local variables and their states are remembered between successive calls.\n",
    "    - Unlike normal functions, the local variables are not destroyed when the function yields.\n",
    "    - The generator object <span style='color:red'>can be iterated only once.</span>\n",
    "- Finally, when the function terminates, <code>StopIteration</code> is raised automatically on further calls.\n"
   ]
  },
  {
   "cell_type": "code",
   "execution_count": 231,
   "metadata": {},
   "outputs": [
    {
     "name": "stdout",
     "output_type": "stream",
     "text": [
      "First print\n",
      "1\n",
      "Second print\n",
      "2\n",
      "Third print\n",
      "3\n"
     ]
    }
   ],
   "source": [
    "# a simple generator function\n",
    "def my_gen():\n",
    "    n=1\n",
    "    print('First print')\n",
    "    # generator function contains at least 1 yield statement\n",
    "    yield n\n",
    "    \n",
    "    n += 1\n",
    "    print('Second print')\n",
    "    yield n\n",
    "    \n",
    "    n += 1\n",
    "    print('Third print')\n",
    "    yield n\n",
    "\n",
    "a = my_gen()\n",
    "print(next(a))\n",
    "print(next(a))\n",
    "print(next(a))\n",
    "\n",
    "# next iteration will give StopIteration error\n",
    "#print(next(a))"
   ]
  },
  {
   "cell_type": "markdown",
   "metadata": {},
   "source": [
    "**Using with For loop**\n",
    "- A for loop takes an iterator and iterates over it using <code>next()</code> function.\n",
    "- It automatically ends when <code>StopIteration</code> is raised."
   ]
  },
  {
   "cell_type": "code",
   "execution_count": 233,
   "metadata": {},
   "outputs": [
    {
     "name": "stdout",
     "output_type": "stream",
     "text": [
      "First print\n",
      "1\n",
      "Second print\n",
      "2\n",
      "Third print\n",
      "3\n"
     ]
    }
   ],
   "source": [
    "# calling via loop\n",
    "\n",
    "for item in my_gen():\n",
    "    print(item)"
   ]
  },
  {
   "cell_type": "markdown",
   "metadata": {},
   "source": [
    "**Generators with a Loop**\n",
    "\n",
    "Normally, the generator functions are implemented with a loop having a suitable terminating condition."
   ]
  },
  {
   "cell_type": "code",
   "execution_count": 235,
   "metadata": {},
   "outputs": [
    {
     "name": "stdout",
     "output_type": "stream",
     "text": [
      "txetemos"
     ]
    }
   ],
   "source": [
    "#reverse string generator\n",
    "def rev_str(my_str):\n",
    "    \n",
    "    for i in range(len(my_str)-1, -1, -1):\n",
    "        yield my_str[i]\n",
    "\n",
    "for char in rev_str('sometext'):\n",
    "    print(char, end='')"
   ]
  },
  {
   "cell_type": "markdown",
   "metadata": {},
   "source": [
    "**Python Generator Expression**\n",
    "\n",
    "- Simple generators can be created on the fly using **generator expressions**.\n",
    "- Similar to the lambda functions which create anonymous functions, generator expressions create anonymous generator functions.\n",
    "- The syntax for generator expression is similar to the of a list comprehension. **The major difference is that a list comprehension produces the entire list while the generator expression produces one item at a time.**\n",
    "- They have a **<span style='color:green'>lazy evaluation</span>** (producing items only when asked for).\n",
    "    - For this reason, a generator expression is much more **memory efficient** than an equivalent list comprehension."
   ]
  },
  {
   "cell_type": "code",
   "execution_count": 237,
   "metadata": {},
   "outputs": [
    {
     "name": "stdout",
     "output_type": "stream",
     "text": [
      "[0, 1, 4, 9, 16]\n",
      "<generator object <genexpr> at 0x000002CBACBC90C8>\n",
      "0\n",
      "1\n",
      "4\n"
     ]
    }
   ],
   "source": [
    "list1 = [x**2 for x in range(5)]\n",
    "print(list1)\n",
    "\n",
    "a = (x**2 for x in range(5))\n",
    "print(a)\n",
    "\n",
    "print(next(a))\n",
    "print(next(a))\n",
    "print(next(a))"
   ]
  },
  {
   "cell_type": "code",
   "execution_count": 238,
   "metadata": {},
   "outputs": [
    {
     "name": "stdout",
     "output_type": "stream",
     "text": [
      "9\n",
      "16\n"
     ]
    }
   ],
   "source": [
    "# remember: it starts where it left.\n",
    "for item in a:\n",
    "    print(item)"
   ]
  },
  {
   "cell_type": "markdown",
   "metadata": {},
   "source": [
    "- **Using Generator Expressions as Argument**\n",
    "    - Generator expressions can be used as function arguments. When used in such a way, the round parantheses can be dropped."
   ]
  },
  {
   "cell_type": "code",
   "execution_count": 4,
   "metadata": {},
   "outputs": [
    {
     "data": {
      "text/plain": [
       "6"
      ]
     },
     "execution_count": 4,
     "metadata": {},
     "output_type": "execute_result"
    }
   ],
   "source": [
    "sum(x*2 for x in range(3)) #sum 0,2,4"
   ]
  },
  {
   "cell_type": "code",
   "execution_count": 5,
   "metadata": {},
   "outputs": [
    {
     "data": {
      "text/plain": [
       "4"
      ]
     },
     "execution_count": 5,
     "metadata": {},
     "output_type": "execute_result"
    }
   ],
   "source": [
    "max(x*2 for x in range(3))"
   ]
  },
  {
   "cell_type": "markdown",
   "metadata": {},
   "source": [
    "**Use of Python Generators**\n",
    "- **Easy to implement**: Generators can be implemented in a clear and concise way as compared to their iterator class counterpart.\n",
    "- **Memory Efficient**: A normal function to return a sequence will create the entire sequence in memory before returning the result. This is an overkill, if the number of items in the sequence is very large. Generators produces one item at a time.\n",
    "- **Represent Infinite Stream**: Generators are excellent mediums to represent an infinit stream of data. Infinite streams cannot be stored in memory, and since generators produce only one item at a time, they can represent an infinite stream of data.\n",
    "- **Pipelining Generators**: Multiple generators can be used to pipeline a series of operations."
   ]
  },
  {
   "cell_type": "code",
   "execution_count": 247,
   "metadata": {},
   "outputs": [
    {
     "name": "stdout",
     "output_type": "stream",
     "text": [
      "0\n",
      "1\n",
      "4\n"
     ]
    }
   ],
   "source": [
    "# Easy to Implement\n",
    "\n",
    "# iterator that takes power of 2\n",
    "# a lot of codes\n",
    "class PowTwo:\n",
    "    def __init__(self, max=0):\n",
    "        self.n = 0\n",
    "        self.max = max\n",
    "        \n",
    "    def __iter__(self):\n",
    "        return self\n",
    "    \n",
    "    def __next__(self):\n",
    "        if self.n > self.max:\n",
    "            raise StopIteration\n",
    "            \n",
    "        result = self.n ** 2\n",
    "        self.n += 1\n",
    "        return result\n",
    "    \n",
    "\n",
    "myObj = PowTwo(max=2)\n",
    "myIter = iter(myObj)\n",
    "\n",
    "print(next(myIter))\n",
    "print(next(myIter))\n",
    "print(next(myIter))\n",
    "\n",
    "# next call raise StopIteration error\n",
    "# print(next(myIter))\n"
   ]
  },
  {
   "cell_type": "code",
   "execution_count": 248,
   "metadata": {},
   "outputs": [
    {
     "name": "stdout",
     "output_type": "stream",
     "text": [
      "0\n",
      "1\n",
      "4\n",
      "9\n"
     ]
    }
   ],
   "source": [
    "# generator that takes power of 2\n",
    "def PowTwoGen(max=0):\n",
    "    n = 0\n",
    "    while n <= max:\n",
    "        yield n**2\n",
    "        n +=1\n",
    "\n",
    "for i in PowTwoGen(max=3):\n",
    "    print(i)"
   ]
  },
  {
   "cell_type": "code",
   "execution_count": null,
   "metadata": {},
   "outputs": [],
   "source": [
    "# Represent Infinite stream\n",
    "\n",
    "def all_even():\n",
    "    n = 0\n",
    "    while True:\n",
    "        y"
   ]
  },
  {
   "cell_type": "code",
   "execution_count": 7,
   "metadata": {},
   "outputs": [
    {
     "name": "stdout",
     "output_type": "stream",
     "text": [
      "4895\n"
     ]
    }
   ],
   "source": [
    "# Pipelining Generators\n",
    "\n",
    "def fibonacci_numbers(nums):\n",
    "    a, b = 0, 1\n",
    "    for _ in range(nums):\n",
    "        a, b = b, a+b\n",
    "        yield a\n",
    "\n",
    "def square(nums):\n",
    "    for num in nums:\n",
    "        yield num**2\n",
    "        \n",
    "print(sum(square(fibonacci_numbers(10))))"
   ]
  },
  {
   "cell_type": "markdown",
   "metadata": {},
   "source": [
    "-------\n",
    "-------\n",
    "-------"
   ]
  },
  {
   "cell_type": "markdown",
   "metadata": {},
   "source": [
    "#### QQ. What is difference between assignment, shallow copy and deepcopy?\n",
    "\n",
    "**Assignment**\n",
    "- By assignment you are getting different names for the same object.\n",
    "- Normal assignment operations simply point the new variable towards the existing object.\n",
    "\n",
    "**Shallow copy**\n",
    "- A shallow copy constructs a new compound object and then inserts references into it to the objects found in the original.\n",
    "\n",
    "**Deep copy**\n",
    "- A deep copy constructs a new compound object and then, recursively, inserts copies into it of the objects found in the original"
   ]
  },
  {
   "cell_type": "markdown",
   "metadata": {},
   "source": [
    "-------"
   ]
  },
  {
   "cell_type": "markdown",
   "metadata": {},
   "source": [
    "**Ex1 (Assignment)**: Since they are referring the same object, the changes are happening for both variables."
   ]
  },
  {
   "cell_type": "code",
   "execution_count": 23,
   "metadata": {},
   "outputs": [
    {
     "data": {
      "text/plain": [
       "True"
      ]
     },
     "execution_count": 23,
     "metadata": {},
     "output_type": "execute_result"
    }
   ],
   "source": [
    "# assignment\n",
    "a = [1,2,3]\n",
    "b = a\n",
    "\n",
    "# both are pointing to the same memory location\n",
    "id(a) == id(b)"
   ]
  },
  {
   "cell_type": "code",
   "execution_count": 25,
   "metadata": {},
   "outputs": [
    {
     "name": "stdout",
     "output_type": "stream",
     "text": [
      "[100, 2, 3]\n"
     ]
    }
   ],
   "source": [
    "#changing item\n",
    "a[0] = 100\n",
    "print(b)"
   ]
  },
  {
   "cell_type": "markdown",
   "metadata": {},
   "source": [
    "-------"
   ]
  },
  {
   "cell_type": "markdown",
   "metadata": {},
   "source": [
    "**Ex2 (Shallow Copy)**: \n",
    "- The copy is now in different memory location. However it has the references to the original object's items.\n",
    "- When an **immutable** item is changed in original object, original object refers to another memory location. (since the item is immutable it can not be changed in the same location)\n",
    "    - However, copied object still referring to the same memory location. That's why its content is not changing.\n",
    "- When an **mutable** item is changed in original object, original object can refer to same memory location. (since the item is mutable it can be changed in the same location)\n",
    "    - Copied object still referring to the same memory location. So, its content also changes."
   ]
  },
  {
   "cell_type": "code",
   "execution_count": 1,
   "metadata": {},
   "outputs": [
    {
     "name": "stdout",
     "output_type": "stream",
     "text": [
      "False\n",
      "True\n",
      "True\n",
      "True\n"
     ]
    }
   ],
   "source": [
    "# shallow copy\n",
    "a = [1,(2,3),['a','b','c']]\n",
    "b = a.copy()\n",
    "\n",
    "# new object created after copy which includes references to the objects in original\n",
    "# a and b are not refering to same memory location\n",
    "print(id(a) == id(b))\n",
    "\n",
    "# however, the items are same objects\n",
    "print(id(a[0]) == id(b[0]))\n",
    "print(id(a[1]) == id(b[1]))\n",
    "print(id(a[2]) == id(b[2]))"
   ]
  },
  {
   "cell_type": "code",
   "execution_count": 2,
   "metadata": {},
   "outputs": [
    {
     "name": "stdout",
     "output_type": "stream",
     "text": [
      "[1, (2, 3), ['a', 'b', 'c']]\n"
     ]
    }
   ],
   "source": [
    "#changing item [immutable] \n",
    "# b[0] still referencing the object 1.\n",
    "a[0] = 100\n",
    "print(b)"
   ]
  },
  {
   "cell_type": "code",
   "execution_count": 4,
   "metadata": {},
   "outputs": [
    {
     "name": "stdout",
     "output_type": "stream",
     "text": [
      "[1, (2, 3), ['a', 'b', 'c']]\n"
     ]
    }
   ],
   "source": [
    "#changing item [immutable] \n",
    "# b[0] still referencing the object (2,3).\n",
    "a[1] = (200,300)\n",
    "print(b)"
   ]
  },
  {
   "cell_type": "code",
   "execution_count": 31,
   "metadata": {},
   "outputs": [
    {
     "name": "stdout",
     "output_type": "stream",
     "text": [
      "[1, 2, ['A', 'b', 'c']]\n"
     ]
    }
   ],
   "source": [
    "#changing item [mutable]\n",
    "#b[2] still referencing the original list.\n",
    "# since the list is modified. b is also changed.\n",
    "a[2][0] = 'A'\n",
    "print(b)"
   ]
  },
  {
   "cell_type": "markdown",
   "metadata": {},
   "source": [
    "**Original Object** (Address 100)"
   ]
  },
  {
   "cell_type": "markdown",
   "metadata": {},
   "source": [
    "| Address| Item  |\n",
    "|--------|-------|\n",
    "| 0      | 1     |\n",
    "| 1      | 2     |\n",
    "| 2      | a,b,c |"
   ]
  },
  {
   "cell_type": "markdown",
   "metadata": {},
   "source": [
    "**Shallow Copied Object** (Address 200)"
   ]
  },
  {
   "cell_type": "markdown",
   "metadata": {},
   "source": [
    "| Address| Item  |\n",
    "|--------|-------|\n",
    "| 0      | 1     |\n",
    "| 1      | 2     |\n",
    "| 2     | a,b,c |"
   ]
  },
  {
   "cell_type": "markdown",
   "metadata": {},
   "source": [
    "- Change Original Object\n",
    "- Changes on immutable objects results in address change since it will refer to another object\n",
    "- Changes on mutable objects wont change address since the change will be done on object itself"
   ]
  },
  {
   "cell_type": "markdown",
   "metadata": {},
   "source": [
    "| Address| Item  |\n",
    "|--------|-------|\n",
    "| 40     | 100   |\n",
    "| 1      | 2     |\n",
    "| 2      | A,b,c |"
   ]
  },
  {
   "cell_type": "markdown",
   "metadata": {},
   "source": [
    "- Shallow Copied Object after change"
   ]
  },
  {
   "cell_type": "markdown",
   "metadata": {},
   "source": [
    "| Address| Item  |\n",
    "|--------|-------|\n",
    "| 0      | 1     |\n",
    "| 1      | 2     |\n",
    "| 2      | A,b,c |"
   ]
  },
  {
   "cell_type": "markdown",
   "metadata": {},
   "source": [
    "-------"
   ]
  },
  {
   "cell_type": "markdown",
   "metadata": {},
   "source": [
    "**Ex3 (Deep Copy)**: \n",
    "- The copy is in different memory location. It has the references to the original object's **immutable** items.\n",
    "- When an **immutable** item is changed in original object, original object refers to another memory location. (since the item is immutable it can not be changed in the same location)\n",
    "    - However, copied object still referring to the same memory location. That's why its content is not changing.\n",
    "- When an **mutable** item is changed in original object, original object can refer to same memory location. (since the item is mutable it can be changed in the same location)\n",
    "    - However, the copied object already was referencing to the another location when it is created. So, this change would not affect the copied object."
   ]
  },
  {
   "cell_type": "code",
   "execution_count": 8,
   "metadata": {},
   "outputs": [
    {
     "name": "stdout",
     "output_type": "stream",
     "text": [
      "False\n",
      "True\n",
      "True\n",
      "False\n"
     ]
    }
   ],
   "source": [
    "import copy\n",
    "# Deep Copy\n",
    "\n",
    "a = [1,2,['a','b','c']]\n",
    "b = copy.deepcopy(a)\n",
    "\n",
    "# new object created after copy.\n",
    "# a and b are not refering to same memory location\n",
    "print(id(a) == id(b))\n",
    "\n",
    "# only the immutable items are same object\n",
    "print(id(a[0]) == id(b[0]))\n",
    "print(id(a[1]) == id(b[1]))\n",
    "print(id(a[2]) == id(b[2]))"
   ]
  },
  {
   "cell_type": "code",
   "execution_count": 7,
   "metadata": {},
   "outputs": [
    {
     "name": "stdout",
     "output_type": "stream",
     "text": [
      "[1, 2, ['a', 'b', 'c']]\n"
     ]
    }
   ],
   "source": [
    "#changing item [immutable] \n",
    "# b[0] still referencing the object 1.\n",
    "a[0] = 100\n",
    "print(b)"
   ]
  },
  {
   "cell_type": "code",
   "execution_count": 10,
   "metadata": {},
   "outputs": [
    {
     "name": "stdout",
     "output_type": "stream",
     "text": [
      "[1, 2, ['a', 'b', 'c']]\n"
     ]
    }
   ],
   "source": [
    "#changing item [mutable]\n",
    "#b[2] still referencing the original list.\n",
    "# since the list is modified. b is also changed.\n",
    "a[2][0] = 'A'\n",
    "print(b)"
   ]
  },
  {
   "cell_type": "markdown",
   "metadata": {},
   "source": [
    "**Original Object** (Address 100)"
   ]
  },
  {
   "cell_type": "markdown",
   "metadata": {},
   "source": [
    "| Address| Item  |\n",
    "|--------|-------|\n",
    "| 0      | 1     |\n",
    "| 1      | 2     |\n",
    "| 2      | a,b,c |"
   ]
  },
  {
   "cell_type": "markdown",
   "metadata": {},
   "source": [
    "**Deep Copied Object** (Address 200)"
   ]
  },
  {
   "cell_type": "markdown",
   "metadata": {},
   "source": [
    "| Address| Item  |\n",
    "|--------|-------|\n",
    "| 0      | 1     |\n",
    "| 1      | 2     |\n",
    "| 10     | a,b,c |"
   ]
  },
  {
   "cell_type": "markdown",
   "metadata": {},
   "source": [
    "- Change Original Object\n",
    "- Changes on immutable objects results in address change since it will refer to another object\n",
    "- Changes on mutable objects wont change address since the change will be done on object itself"
   ]
  },
  {
   "cell_type": "markdown",
   "metadata": {},
   "source": [
    "| Address| Item  |\n",
    "|--------|-------|\n",
    "| 40     | 100   |\n",
    "| 1      | 2     |\n",
    "| 2      | A,b,c |"
   ]
  },
  {
   "cell_type": "markdown",
   "metadata": {},
   "source": [
    "- Deep Copied Object after change"
   ]
  },
  {
   "cell_type": "markdown",
   "metadata": {},
   "source": [
    "| Address| Item  |\n",
    "|--------|-------|\n",
    "| 0      | 1     |\n",
    "| 1      | 2     |\n",
    "| 10      | a,b,c |"
   ]
  },
  {
   "cell_type": "markdown",
   "metadata": {},
   "source": [
    "-------\n",
    "-------\n",
    "-------"
   ]
  },
  {
   "cell_type": "markdown",
   "metadata": {},
   "source": [
    "#### QQ. What is named tuple? What are the differences between named tuple, dictionary?\n",
    "\n",
    "- **collections** module implements specialized container datatypes providing alternatives to Python's general purpose built-in containers dict, list, set, and tuple.\n",
    "- <code>namedtuple()</code> is a factory function for creating tuple subclasses with named fields.\n",
    "- **Named tuples** assign meaning to each position in a tuple and allow for more readable, self-documenting code. They can be used wherever regular tuples are used, and they add the ability to access fields by name instead of position index.\n",
    "    - Similar to the dictionaries, they contain keys that are hashed to a particular value.\n",
    "    - Unlike dictionaries, it supports access both from key value and iteration (by indices). (while dictionaries support access only from key value.)\n",
    "    - Unlike dictionaries, named tuples are ordered."
   ]
  },
  {
   "cell_type": "code",
   "execution_count": 31,
   "metadata": {},
   "outputs": [
    {
     "name": "stdout",
     "output_type": "stream",
     "text": [
      "Access using index: John 25 M\n",
      "Access using keys: John 25 M\n"
     ]
    }
   ],
   "source": [
    "from collections import namedtuple\n",
    "\n",
    "Person = namedtuple('Person','name age gender')\n",
    "p = Person(name='John', age=25, gender='M')\n",
    "\n",
    "# access using index\n",
    "print('Access using index:',p[0], p[1], p[2])\n",
    "print('Access using keys:',p.name, p.age, p.gender)"
   ]
  },
  {
   "cell_type": "markdown",
   "metadata": {},
   "source": [
    "**Conversion Operations**\n",
    "- <code>_make()</code>: return a <code>namedtuple()</code> from the iterable passed as argument\n",
    "- <code>_asdict()</code>: return a <code>OrderedDict()</code> as constructed from the mapped values of namedtuple()\n",
    "- using ** (double star) operator: convert a dictionary into the namedtuple()."
   ]
  },
  {
   "cell_type": "code",
   "execution_count": 33,
   "metadata": {},
   "outputs": [
    {
     "data": {
      "text/plain": [
       "Person(name='Jane', age=20, gender='F')"
      ]
     },
     "execution_count": 33,
     "metadata": {},
     "output_type": "execute_result"
    }
   ],
   "source": [
    "list1 = ['Jane', 20, 'F']\n",
    "Person._make(list1)"
   ]
  },
  {
   "cell_type": "code",
   "execution_count": 34,
   "metadata": {},
   "outputs": [
    {
     "data": {
      "text/plain": [
       "OrderedDict([('name', 'John'), ('age', 25), ('gender', 'M')])"
      ]
     },
     "execution_count": 34,
     "metadata": {},
     "output_type": "execute_result"
    }
   ],
   "source": [
    "p._asdict()"
   ]
  },
  {
   "cell_type": "code",
   "execution_count": 35,
   "metadata": {},
   "outputs": [
    {
     "data": {
      "text/plain": [
       "Person(name='Alex', age=30, gender='M')"
      ]
     },
     "execution_count": 35,
     "metadata": {},
     "output_type": "execute_result"
    }
   ],
   "source": [
    "dict1 = {'name': 'Alex', 'age':30, 'gender':'M'}\n",
    "Person(**dict1)"
   ]
  },
  {
   "cell_type": "markdown",
   "metadata": {},
   "source": [
    "**Additional Operations**\n",
    "- <code>_fields</code>: return all the key names of the namespace declared\n",
    "- <code>_replace()</code>: is used to change the values mapped with the passed name"
   ]
  },
  {
   "cell_type": "code",
   "execution_count": 41,
   "metadata": {},
   "outputs": [
    {
     "data": {
      "text/plain": [
       "('name', 'age', 'gender')"
      ]
     },
     "execution_count": 41,
     "metadata": {},
     "output_type": "execute_result"
    }
   ],
   "source": [
    "Person._fields"
   ]
  },
  {
   "cell_type": "code",
   "execution_count": 44,
   "metadata": {},
   "outputs": [
    {
     "data": {
      "text/plain": [
       "Person(name='KrAlex', age=25, gender='M')"
      ]
     },
     "execution_count": 44,
     "metadata": {},
     "output_type": "execute_result"
    }
   ],
   "source": [
    "p._replace(name='KrAlex')"
   ]
  },
  {
   "cell_type": "markdown",
   "metadata": {},
   "source": [
    "-------\n",
    "-------\n",
    "-------"
   ]
  },
  {
   "cell_type": "markdown",
   "metadata": {},
   "source": [
    "#### QQ. What is difference between **ordered dictionary** and **standard dictionary**?"
   ]
  },
  {
   "cell_type": "markdown",
   "metadata": {},
   "source": [
    "Note: From Python 3.6 onwards, the standard <code>dict()</code> maintains the insertion order.\n",
    "\n",
    "- <code>OrderedDict()</code> is a dictionary subclass that remembers the order that keys were first inserted.\n",
    "- The only difference than <code>dict()</code> is that the <code>OrderedDict()</code> **preserves the order** in which the keys are inserted. A regular dict does not tract the insertion order, and iterating it gives the values in an arbitrary order."
   ]
  },
  {
   "cell_type": "code",
   "execution_count": 53,
   "metadata": {},
   "outputs": [
    {
     "name": "stdout",
     "output_type": "stream",
     "text": [
      "name John\n",
      "age 20\n",
      "gender M\n"
     ]
    }
   ],
   "source": [
    "from collections import OrderedDict\n",
    "\n",
    "od = OrderedDict(name = 'John')\n",
    "od['age'] = 20\n",
    "od['gender'] = 'M'\n",
    "\n",
    "for key,value in od.items():\n",
    "    print(key,value)"
   ]
  },
  {
   "cell_type": "markdown",
   "metadata": {},
   "source": [
    "-------\n",
    "-------\n",
    "-------"
   ]
  },
  {
   "cell_type": "markdown",
   "metadata": {},
   "source": [
    "#### QQ. Explain Python <code>\\_\\_name_\\_</code> variable?\n",
    "\n",
    "- When a python script is executed, the <code>\\_\\_name_\\_</code> variable is set to **\\_\\_main_\\_**\n",
    "- When a python script is executed which import a module, the <code>\\__name__</code> variable of the module is set to **module name**.\n",
    "- By using this variable, it is possible to control the code parts being executed depending on how a script is called (main program or imported)"
   ]
  },
  {
   "cell_type": "code",
   "execution_count": 54,
   "metadata": {},
   "outputs": [
    {
     "name": "stdout",
     "output_type": "stream",
     "text": [
      "__main__\n"
     ]
    }
   ],
   "source": [
    "print(__name__)"
   ]
  },
  {
   "cell_type": "code",
   "execution_count": 56,
   "metadata": {},
   "outputs": [
    {
     "name": "stdout",
     "output_type": "stream",
     "text": [
      "This script is executed as main program\n"
     ]
    }
   ],
   "source": [
    "if __name__ == '__main__':\n",
    "    print('This script is executed as main program')"
   ]
  },
  {
   "cell_type": "markdown",
   "metadata": {},
   "source": [
    "-------\n",
    "-------\n",
    "-------"
   ]
  },
  {
   "cell_type": "markdown",
   "metadata": {},
   "source": [
    "-------\n",
    "-------\n",
    "-------"
   ]
  },
  {
   "cell_type": "markdown",
   "metadata": {},
   "source": [
    "QQ. What is itertools?"
   ]
  },
  {
   "cell_type": "code",
   "execution_count": null,
   "metadata": {},
   "outputs": [],
   "source": [
    "References\n",
    "\n",
    "- geeksforgeeks\n",
    "- programiz\n",
    "- stackoverflow"
   ]
  }
 ],
 "metadata": {
  "kernelspec": {
   "display_name": "Python 3",
   "language": "python",
   "name": "python3"
  },
  "language_info": {
   "codemirror_mode": {
    "name": "ipython",
    "version": 3
   },
   "file_extension": ".py",
   "mimetype": "text/x-python",
   "name": "python",
   "nbconvert_exporter": "python",
   "pygments_lexer": "ipython3",
   "version": "3.7.6"
  }
 },
 "nbformat": 4,
 "nbformat_minor": 4
}
